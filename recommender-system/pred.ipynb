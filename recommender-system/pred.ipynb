{
 "cells": [
  {
   "cell_type": "code",
   "execution_count": 1,
   "metadata": {},
   "outputs": [],
   "source": [
    "import numpy as np\n",
    "import pandas as pd\n",
    "import scipy.io"
   ]
  },
  {
   "cell_type": "code",
   "execution_count": 2,
   "metadata": {},
   "outputs": [],
   "source": [
    "params = scipy.io.loadmat('trained_params.mat')\n",
    "movie_ids = np.load('movieids.npy', allow_pickle=True)\n",
    "book_ids = np.load('bookids.npy', allow_pickle=True)\n",
    "book_userids = np.load('book_userids.npy', allow_pickle=True)"
   ]
  },
  {
   "cell_type": "code",
   "execution_count": 3,
   "metadata": {},
   "outputs": [],
   "source": [
    "B = params['Core']\n",
    "User_Mem = params['UserMem']\n",
    "Item_Mem = params['ItemMem'].T"
   ]
  },
  {
   "cell_type": "code",
   "execution_count": 31,
   "metadata": {},
   "outputs": [],
   "source": [
    "book_id = 19842\n",
    "movie_id = 23\n",
    "items1 = []\n",
    "items2 = []"
   ]
  },
  {
   "cell_type": "code",
   "execution_count": 32,
   "metadata": {},
   "outputs": [],
   "source": [
    "if(movie_id!=0):\n",
    "    idx = movie_id-1\n",
    "    cluster = User_Mem[851 + idx]\n",
    "    user_cluster = np.argmax(cluster)\n",
    "    cluster2 = B[user_cluster,:]\n",
    "    item_cluster = np.argmax(cluster2)\n",
    "    items1 = np.where(Item_Mem.argmax(axis=0) == item_cluster)[0]\n",
    "    \n",
    "if(book_id!=0):\n",
    "    idx = np.where(book_userids==book_id)[0]\n",
    "    cluster = User_Mem[idx]\n",
    "    user_cluster = np.argmax(cluster)\n",
    "    cluster2 = B[user_cluster,:]\n",
    "    item_cluster = np.argmax(cluster2)\n",
    "    items2 = np.where(Item_Mem.argmax(axis=0) == item_cluster)[0]"
   ]
  },
  {
   "cell_type": "code",
   "execution_count": 33,
   "metadata": {},
   "outputs": [],
   "source": [
    "items = list(set(items1).union(set(items2)))"
   ]
  },
  {
   "cell_type": "code",
   "execution_count": null,
   "metadata": {},
   "outputs": [],
   "source": [
    "books = items[items<974]\n",
    "movies = items[items>=974]"
   ]
  },
  {
   "cell_type": "code",
   "execution_count": 200,
   "metadata": {},
   "outputs": [],
   "source": [
    "bids = book_ids[books]\n",
    "mids = movie_ids[movies-974]"
   ]
  },
  {
   "cell_type": "code",
   "execution_count": null,
   "metadata": {},
   "outputs": [],
   "source": []
  }
 ],
 "metadata": {
  "kernelspec": {
   "display_name": "Python 3",
   "language": "python",
   "name": "python3"
  },
  "language_info": {
   "codemirror_mode": {
    "name": "ipython",
    "version": 3
   },
   "file_extension": ".py",
   "mimetype": "text/x-python",
   "name": "python",
   "nbconvert_exporter": "python",
   "pygments_lexer": "ipython3",
   "version": "3.6.8"
  }
 },
 "nbformat": 4,
 "nbformat_minor": 4
}
